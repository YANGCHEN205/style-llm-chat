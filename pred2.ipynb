{
 "cells": [
  {
   "cell_type": "code",
   "execution_count": 1,
   "metadata": {},
   "outputs": [],
   "source": [
    "# -*- coding: utf-8 -*-\n",
    "# @Time    : 2024/6/16 20:50\n",
    "# @Author  : yblir\n",
    "# @File    : lyb_lora_inference.py\n",
    "# explain  : \n",
    "# =======================================================\n",
    "import yaml\n",
    "import json\n",
    "from loguru import logger\n",
    "import time\n",
    "import sys\n",
    "from src.llamafactory.chat import ChatModel\n"
   ]
  },
  {
   "cell_type": "code",
   "execution_count": 2,
   "metadata": {},
   "outputs": [
    {
     "name": "stderr",
     "output_type": "stream",
     "text": [
      "[INFO|tokenization_utils_base.py:2287] 2024-09-01 13:15:41,435 >> loading file vocab.json\n",
      "[INFO|tokenization_utils_base.py:2287] 2024-09-01 13:15:41,436 >> loading file merges.txt\n",
      "[INFO|tokenization_utils_base.py:2287] 2024-09-01 13:15:41,437 >> loading file tokenizer.json\n",
      "[INFO|tokenization_utils_base.py:2287] 2024-09-01 13:15:41,438 >> loading file added_tokens.json\n",
      "[INFO|tokenization_utils_base.py:2287] 2024-09-01 13:15:41,439 >> loading file special_tokens_map.json\n",
      "[INFO|tokenization_utils_base.py:2287] 2024-09-01 13:15:41,440 >> loading file tokenizer_config.json\n",
      "[INFO|tokenization_utils_base.py:2533] 2024-09-01 13:15:41,767 >> Special tokens have been added in the vocabulary, make sure the associated word embeddings are fine-tuned or trained.\n",
      "[INFO|configuration_utils.py:731] 2024-09-01 13:15:41,769 >> loading configuration file /root/autodl-tmp/hug/models--Qwen--Qwen1.5-0.5B-chat/snapshots/4d14e384a4b037942bb3f3016665157c8bcb70ea/config.json\n",
      "[INFO|configuration_utils.py:800] 2024-09-01 13:15:41,774 >> Model config Qwen2Config {\n",
      "  \"_name_or_path\": \"/root/autodl-tmp/hug/models--Qwen--Qwen1.5-0.5B-chat/snapshots/4d14e384a4b037942bb3f3016665157c8bcb70ea\",\n",
      "  \"architectures\": [\n",
      "    \"Qwen2ForCausalLM\"\n",
      "  ],\n",
      "  \"attention_dropout\": 0.0,\n",
      "  \"bos_token_id\": 151643,\n",
      "  \"eos_token_id\": 151645,\n",
      "  \"hidden_act\": \"silu\",\n",
      "  \"hidden_size\": 1024,\n",
      "  \"initializer_range\": 0.02,\n",
      "  \"intermediate_size\": 2816,\n",
      "  \"max_position_embeddings\": 32768,\n",
      "  \"max_window_layers\": 21,\n",
      "  \"model_type\": \"qwen2\",\n",
      "  \"num_attention_heads\": 16,\n",
      "  \"num_hidden_layers\": 24,\n",
      "  \"num_key_value_heads\": 16,\n",
      "  \"rms_norm_eps\": 1e-06,\n",
      "  \"rope_theta\": 1000000.0,\n",
      "  \"sliding_window\": null,\n",
      "  \"tie_word_embeddings\": true,\n",
      "  \"torch_dtype\": \"bfloat16\",\n",
      "  \"transformers_version\": \"4.43.4\",\n",
      "  \"use_cache\": true,\n",
      "  \"use_sliding_window\": false,\n",
      "  \"vocab_size\": 151936\n",
      "}\n",
      "\n"
     ]
    },
    {
     "name": "stdout",
     "output_type": "stream",
     "text": [
      "09/01/2024 13:15:41 - INFO - src.llamafactory.model.patcher - Using KV cache for faster generation.\n"
     ]
    },
    {
     "name": "stderr",
     "output_type": "stream",
     "text": [
      "[INFO|modeling_utils.py:3641] 2024-09-01 13:15:41,821 >> loading weights file /root/autodl-tmp/hug/models--Qwen--Qwen1.5-0.5B-chat/snapshots/4d14e384a4b037942bb3f3016665157c8bcb70ea/model.safetensors\n",
      "[INFO|modeling_utils.py:1572] 2024-09-01 13:15:41,836 >> Instantiating Qwen2ForCausalLM model under default dtype torch.bfloat16.\n",
      "[INFO|configuration_utils.py:1038] 2024-09-01 13:15:41,841 >> Generate config GenerationConfig {\n",
      "  \"bos_token_id\": 151643,\n",
      "  \"eos_token_id\": 151645\n",
      "}\n",
      "\n",
      "[INFO|modeling_utils.py:4473] 2024-09-01 13:16:30,612 >> All model checkpoint weights were used when initializing Qwen2ForCausalLM.\n",
      "\n",
      "[INFO|modeling_utils.py:4481] 2024-09-01 13:16:30,614 >> All the weights of Qwen2ForCausalLM were initialized from the model checkpoint at /root/autodl-tmp/hug/models--Qwen--Qwen1.5-0.5B-chat/snapshots/4d14e384a4b037942bb3f3016665157c8bcb70ea.\n",
      "If your task is similar to the task the model of the checkpoint was trained on, you can already use Qwen2ForCausalLM for predictions without further training.\n",
      "[INFO|configuration_utils.py:991] 2024-09-01 13:16:30,618 >> loading configuration file /root/autodl-tmp/hug/models--Qwen--Qwen1.5-0.5B-chat/snapshots/4d14e384a4b037942bb3f3016665157c8bcb70ea/generation_config.json\n",
      "[INFO|configuration_utils.py:1038] 2024-09-01 13:16:30,619 >> Generate config GenerationConfig {\n",
      "  \"bos_token_id\": 151643,\n",
      "  \"do_sample\": true,\n",
      "  \"eos_token_id\": [\n",
      "    151645,\n",
      "    151643\n",
      "  ],\n",
      "  \"pad_token_id\": 151643,\n",
      "  \"repetition_penalty\": 1.1,\n",
      "  \"top_p\": 0.8\n",
      "}\n",
      "\n"
     ]
    },
    {
     "name": "stdout",
     "output_type": "stream",
     "text": [
      "09/01/2024 13:16:30 - INFO - src.llamafactory.model.model_utils.attention - Using torch SDPA for faster training and inference.\n",
      "09/01/2024 13:16:31 - INFO - src.llamafactory.model.adapter - Merged 1 adapter(s).\n",
      "09/01/2024 13:16:31 - INFO - src.llamafactory.model.adapter - Loaded adapter(s): /root/autodl-tmp/LLaMA-Factory/roleplay/output/Qwen1.5-0.5B-chat/XiYouji_Parallel\n",
      "09/01/2024 13:16:31 - INFO - src.llamafactory.model.loader - all params: 463,987,712\n"
     ]
    }
   ],
   "source": [
    "with open('/root/autodl-tmp/LLaMA-Factory/roleplay/style_model.yaml', 'r', encoding='utf-8') as f:\n",
    "    param = yaml.safe_load(f)\n",
    "\n",
    "style_model = ChatModel(param)"
   ]
  },
  {
   "cell_type": "markdown",
   "metadata": {},
   "source": [
    "**故事：遗失的星空**\n",
    "\n",
    "在一个偏远的山村，年轻的艺术家米娅与她的祖父一起生活。祖父是村里唯一的天文爱好者，他有一台老望远镜，每晚都会与米娅一起仰望星空。然而，随着附近城市的扩张，光污染逐渐侵蚀了他们观星的乐趣。\n",
    "\n",
    "一天，祖父去世了，留下了一封信和一张星图。信中，他告诉米娅，在一个特定的日期，会有一颗珍稀彗星从他们的村子上空经过。激动的米娅决定继续祖父的遗愿，观察这一天文奇观。\n",
    "\n",
    "到了那个特别的晚上，米娅带着望远镜和星图，独自一人爬上了村子后的小山。虽然城市的灯光仍旧明亮，但她凭着星图和记忆，准确地找到了观察位置。就在半夜时分，彗星划过夜空，留下了一道长长的尾迹。米娅激动地记录下这一刻，她知道这不仅是对祖父最好的纪念，也是她新生活的开始。"
   ]
  },
  {
   "cell_type": "code",
   "execution_count": 7,
   "metadata": {},
   "outputs": [
    {
     "name": "stdout",
     "output_type": "stream",
     "text": [
      "style reponse:  至那夜，米娅拿望远镜，星图，独自爬上了村子后小山。虽是城灯照耀，然他凭星图，记起那观。就在半夜时，彗星掠过夜空，留一长尾，记此为祖，又是新居。\n"
     ]
    }
   ],
   "source": [
    "# prompt = \"在一个偏远的山村，年轻的艺术家米娅与她的祖父一起生活。祖父是村里唯一的天文爱好者，他有一台老望远镜，每晚都会与米娅一起仰望星空。然而，随着附近城市的扩张，光污染逐渐侵蚀了他们观星的乐趣。\"\n",
    "# prompt = \"一天，祖父去世了，留下了一封信和一张星图。信中，他告诉米娅，在一个特定的日期，会有一颗珍稀彗星从他们的村子上空经过。激动的米娅决定继续祖父的遗愿，观察这一天文奇观。\"\n",
    "prompt = \"到了那个特别的晚上，米娅带着望远镜和星图，独自一人爬上了村子后的小山。虽然城市的灯光仍旧明亮，但她凭着星图和记忆，准确地找到了观察位置。就在半夜时分，彗星划过夜空，留下了一道长长的尾迹。米娅激动地记录下这一刻，她知道这不仅是对祖父最好的纪念，也是她新生活的开始。\"\n",
    "messages = [                                                                                                                                \n",
    "    {\"role\": \"user\", \"content\": prompt}\n",
    "]\n",
    "res = style_model.chat(messages)\n",
    "print(\"style reponse: \", res[0].response_text)"
   ]
  }
 ],
 "metadata": {
  "kernelspec": {
   "display_name": "base",
   "language": "python",
   "name": "python3"
  },
  "language_info": {
   "codemirror_mode": {
    "name": "ipython",
    "version": 3
   },
   "file_extension": ".py",
   "mimetype": "text/x-python",
   "name": "python",
   "nbconvert_exporter": "python",
   "pygments_lexer": "ipython3",
   "version": "3.12.3"
  }
 },
 "nbformat": 4,
 "nbformat_minor": 2
}
